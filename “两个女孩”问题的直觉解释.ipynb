{
 "cells": [
  {
   "cell_type": "markdown",
   "metadata": {},
   "source": [
    "本文讨论这样一道条件概率题目：\n",
    "\n",
    "    已知一个家庭有两个孩子，在以下两种描述下，两个孩子都是女孩的概率分别是多少？\n",
    "    \n",
    "    1. 他们家有女孩\n",
    "    2. 有一次我去他们家，一进门看到了一个女孩\n",
    "    \n",
    "先公布答案：\n",
    "   \n",
    "    1. 1/3\n",
    "    2. 1/2\n",
    "\n",
    "即使对条件概率公式`P(A|B) = P(AB)/P(B)`非常熟悉的人，这道题依然可能算错，因为很难看出这两个条件的区别。而这也正是通常的痛点所在：对条件的正确分析。如果不能正确的分析题目，即使知道正确答案也仍会感觉：我知道这么算是对的，可就是觉得别扭。\n",
    "\n",
    "因此除了给出正确答案之外，让这些答案 “make sense” 也是很重要的一件事。"
   ]
  },
  {
   "cell_type": "markdown",
   "metadata": {},
   "source": [
    "### 笨办法\n",
    "\n",
    "通常当我们对概率问题想不通的时候，可以先写个小程序用统计的方式验证一下。这里只验证条件2，模拟过程为：进行一万次重复试验，先随机选择一个孩子，然后判断性别，是女孩的就算符合条件2。"
   ]
  },
  {
   "cell_type": "code",
   "execution_count": null,
   "metadata": {},
   "outputs": [],
   "source": [
    "from random import randint, choice"
   ]
  },
  {
   "cell_type": "code",
   "execution_count": null,
   "metadata": {},
   "outputs": [],
   "source": [
    "samples = [[randint(0, 1), randint(0, 1)] for i in range(10000)]  # 原始样本空间，0 代表女孩，1 代表男孩"
   ]
  },
  {
   "cell_type": "code",
   "execution_count": null,
   "metadata": {},
   "outputs": [],
   "source": [
    "hits = []\n",
    "miss = []"
   ]
  },
  {
   "cell_type": "code",
   "execution_count": null,
   "metadata": {},
   "outputs": [],
   "source": [
    "for children in samples:\n",
    "    if choice(children) == 0:  # 随机遇见一个孩子，其为女孩\n",
    "        hits.append(children)\n",
    "    else:\n",
    "        miss.append(children)"
   ]
  },
  {
   "cell_type": "code",
   "execution_count": null,
   "metadata": {},
   "outputs": [],
   "source": [
    "len(hits)"
   ]
  },
  {
   "cell_type": "code",
   "execution_count": null,
   "metadata": {},
   "outputs": [],
   "source": [
    "len([children for children in hits if children[0] == children[1]])  # 两个都是女孩的情况"
   ]
  },
  {
   "cell_type": "markdown",
   "metadata": {},
   "source": [
    "可以看到都是女孩的次数约等于 2500，而符合条件2 的次数约等于 5000，匹配正确答案 1/2。在条件1 的情况下，我们知道都是女孩的次数仍然是 2500，而符合条件的次数应该是 7500。那么理解问题的关键就在于想明白，条件2 为什么比条件1 少了 2500 次命中？\n",
    "\n",
    "问题就出在”随机遇到“这个过程上。如果把条件2 用更标准的语言再描述一次：随机抽样一次，抽中女孩。就容易看出它与条件1 的区别了。即对于一男一女的情况（5000次），条件 1 会 100% 命中，而条件2 只有 50% 命中。缺失的正是那 2500 次。"
   ]
  },
  {
   "cell_type": "markdown",
   "metadata": {},
   "source": [
    "### 巧办法\n",
    "\n",
    "更加一般的方法是考虑条件的概率空间，对于条件2，可能的事件为 “遇见男孩” 和 “遇见女孩”，且概率相等，所以 `P(B) = 0.5`。"
   ]
  },
  {
   "cell_type": "markdown",
   "metadata": {},
   "source": [
    "或者使用比较直观的看法，条件2 还等价于：已知一个孩子为女孩，问另一个孩子是女孩的概率，显然 `P(AB) = 0.5`。\n",
    "\n",
    "另一个在直觉上区分两个条件的方法是考虑：条件2 是条件1 的充分不必要条件。"
   ]
  }
 ],
 "metadata": {
  "kernelspec": {
   "display_name": "Python 3",
   "language": "python",
   "name": "python3"
  },
  "language_info": {
   "codemirror_mode": {
    "name": "ipython",
    "version": 3
   },
   "file_extension": ".py",
   "mimetype": "text/x-python",
   "name": "python",
   "nbconvert_exporter": "python",
   "pygments_lexer": "ipython3",
   "version": "3.6.1"
  }
 },
 "nbformat": 4,
 "nbformat_minor": 2
}
